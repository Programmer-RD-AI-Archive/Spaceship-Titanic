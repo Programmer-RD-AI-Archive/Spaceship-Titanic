{
 "cells": [
  {
   "cell_type": "code",
   "execution_count": 1,
   "id": "083c31e6-01ab-4cea-a453-a0da9224c3ea",
   "metadata": {},
   "outputs": [
    {
     "name": "stderr",
     "output_type": "stream",
     "text": [
      "/usr/local/lib/python3.8/dist-packages/pkg_resources/__init__.py:116: PkgResourcesDeprecationWarning: 0.5.2.1-4-gc0b48a7 is an invalid version and will not be supported in a future release\n",
      "  warnings.warn(\n",
      "/usr/local/lib/python3.8/dist-packages/pkg_resources/__init__.py:116: PkgResourcesDeprecationWarning: 1.13.1-unknown is an invalid version and will not be supported in a future release\n",
      "  warnings.warn(\n",
      "/usr/local/lib/python3.8/dist-packages/pkg_resources/__init__.py:116: PkgResourcesDeprecationWarning: 0.23ubuntu1 is an invalid version and will not be supported in a future release\n",
      "  warnings.warn(\n",
      "/usr/local/lib/python3.8/dist-packages/pkg_resources/__init__.py:116: PkgResourcesDeprecationWarning: 0.1.36ubuntu1 is an invalid version and will not be supported in a future release\n",
      "  warnings.warn(\n"
     ]
    }
   ],
   "source": [
    "import numpy as np\n",
    "import pandas as pd \n",
    "import sklearn\n",
    "from sklearn.metrics  import f1_score,accuracy_score\n",
    "from sklearn.tree import DecisionTreeClassifier\n",
    "from sklearn.model_selection import train_test_split\n",
    "from sklearn.metrics import mean_absolute_error\n",
    "from sklearn.metrics import r2_score\n",
    "# Classification\n",
    "from sklearn.linear_model import LogisticRegression\n",
    "from sklearn.svm import SVC\n",
    "from sklearn.naive_bayes import GaussianNB\n",
    "from sklearn.naive_bayes import MultinomialNB\n",
    "from sklearn.linear_model import SGDClassifier\n",
    "from sklearn.neighbors import KNeighborsClassifier\n",
    "from sklearn.tree import DecisionTreeClassifier\n",
    "from sklearn.ensemble import RandomForestClassifier\n",
    "from sklearn.ensemble import GradientBoostingClassifier\n",
    "from lightgbm import LGBMClassifier\n",
    "from xgboost.sklearn import XGBClassifier\n",
    "#\n",
    "from sklearn.metrics import classification_report\n",
    "from sklearn.model_selection import cross_val_score\n",
    "from sklearn.metrics import *\n",
    "from sklearn.model_selection import *\n",
    "# from catboost import CatBoost,CatBoostRegressor\n",
    "from xgboost import XGBRegressor,XGBRFRegressor\n",
    "np.random.seed(42)\n",
    "sklearn.random.seed(42)"
   ]
  },
  {
   "cell_type": "code",
   "execution_count": 2,
   "id": "2b6e66e7-a826-47de-89be-50dc4ae6c340",
   "metadata": {},
   "outputs": [],
   "source": [
    "data = pd.read_csv('./data/train.csv')"
   ]
  },
  {
   "cell_type": "code",
   "execution_count": 3,
   "id": "92c758da-8e62-45df-918f-d63340efa284",
   "metadata": {},
   "outputs": [],
   "source": [
    "data = data.sample(frac=1)"
   ]
  },
  {
   "cell_type": "code",
   "execution_count": 4,
   "id": "14c172e0-a0db-4764-98ac-8e44a06d4910",
   "metadata": {},
   "outputs": [],
   "source": [
    "test_data = pd.read_csv('./data/test.csv')"
   ]
  },
  {
   "cell_type": "code",
   "execution_count": 5,
   "id": "f893b285-f349-45e5-8724-01c1e2926b21",
   "metadata": {},
   "outputs": [],
   "source": [
    "data['PassengerId'] = data['PassengerId'].astype(int)\n",
    "data['Age'] = data['Age'].fillna(data['Age'].mean())\n",
    "data['RoomService'] = data['RoomService'].fillna(data['RoomService'].mean())\n",
    "data['FoodCourt'] = data['FoodCourt'].fillna(data['FoodCourt'].mean())\n",
    "data['ShoppingMall'] = data['ShoppingMall'].fillna(data['ShoppingMall'].mean())\n",
    "data['Spa'] = data['Spa'].fillna(data['Spa'].mean())\n",
    "data['VRDeck'] = data['VRDeck'].fillna(data['VRDeck'].mean())"
   ]
  },
  {
   "cell_type": "code",
   "execution_count": 6,
   "id": "2ac971d7-2f12-4a1e-b71b-290e9d06e957",
   "metadata": {},
   "outputs": [],
   "source": [
    "new_transported = []\n",
    "for transport in data['Transported']:\n",
    "    if transport is True:\n",
    "        new_transported.append(0)\n",
    "    elif transport is False:\n",
    "        new_transported.append(1)\n",
    "    else:\n",
    "        new_transported.append(None)\n",
    "data['Transported'] = new_transported"
   ]
  },
  {
   "cell_type": "code",
   "execution_count": 7,
   "id": "09b40757-994e-4666-a461-fec255389582",
   "metadata": {},
   "outputs": [],
   "source": [
    "new_transported = []\n",
    "for transport in data['CryoSleep']:\n",
    "    if transport is True:\n",
    "        new_transported.append(0)\n",
    "    elif transport is False:\n",
    "        new_transported.append(1)\n",
    "    else:\n",
    "        new_transported.append(None)\n",
    "data['CryoSleep'] = new_transported"
   ]
  },
  {
   "cell_type": "code",
   "execution_count": 8,
   "id": "49bcc316-ab23-4303-8727-ae9e2445469b",
   "metadata": {},
   "outputs": [],
   "source": [
    "new_transported = []\n",
    "for transport in data['VIP']:\n",
    "    if transport is True:\n",
    "        new_transported.append(0)\n",
    "    elif transport is False:\n",
    "        new_transported.append(1)\n",
    "    else:\n",
    "        new_transported.append(None)\n",
    "data['VIP'] = new_transported"
   ]
  },
  {
   "cell_type": "code",
   "execution_count": 9,
   "id": "5c8c59d7-8af7-4781-ba1f-ea1b12839c79",
   "metadata": {},
   "outputs": [],
   "source": [
    "data = data.drop(['PassengerId','VIP','FoodCourt','ShoppingMall'],axis=1)"
   ]
  },
  {
   "cell_type": "code",
   "execution_count": 10,
   "id": "746068b2-8b56-4e86-a9cf-27ba4bb1ffb8",
   "metadata": {},
   "outputs": [],
   "source": [
    "idx = 0\n",
    "labels = {}\n",
    "for label in data['HomePlanet']:\n",
    "    if label not in list(labels.keys()):\n",
    "        idx += 1\n",
    "        labels[label] = idx"
   ]
  },
  {
   "cell_type": "code",
   "execution_count": 11,
   "id": "ec48fd69-ba6f-4daa-9994-bb413a48b685",
   "metadata": {},
   "outputs": [],
   "source": [
    "new_data = []\n",
    "for i in data['HomePlanet']:\n",
    "    new_data.append(labels[i])\n",
    "data['HomePlanet'] = new_data"
   ]
  },
  {
   "cell_type": "code",
   "execution_count": 12,
   "id": "e9fc87b7-d7ce-4334-9c77-517ff6c5478e",
   "metadata": {},
   "outputs": [],
   "source": [
    "new_cabins = []\n",
    "for c in data['Cabin']:\n",
    "    if type(c) is float:\n",
    "        new_cabins.append(None)\n",
    "    else:\n",
    "        c = c.split('/')[1]\n",
    "        new_cabins.append(int(c))\n",
    "data['Cabin'] = new_cabins\n",
    "data['Cabin'] = data['Cabin'].fillna(data['Cabin'].mean())"
   ]
  },
  {
   "cell_type": "code",
   "execution_count": 13,
   "id": "978952b7-fd11-4eab-a2bc-e3815228edbc",
   "metadata": {},
   "outputs": [],
   "source": [
    "data['CryoSleep'] = data['CryoSleep'].fillna(data['CryoSleep'].mean())"
   ]
  },
  {
   "cell_type": "code",
   "execution_count": 14,
   "id": "eebe5178-908d-464f-a33f-ba07d7ada0ce",
   "metadata": {},
   "outputs": [],
   "source": [
    "data = data.drop(['Destination','Name'],axis=1)"
   ]
  },
  {
   "cell_type": "code",
   "execution_count": 15,
   "id": "fe0ad9a9-0425-409f-a97a-f3f4442403fb",
   "metadata": {},
   "outputs": [],
   "source": [
    "X = data.drop('Transported',axis=1)\n",
    "y = data['Transported']\n",
    "X_train,X_test,y_train,y_test = train_test_split(X,y,shuffle=True,test_size=0.0625)"
   ]
  },
  {
   "cell_type": "code",
   "execution_count": 16,
   "id": "21e219d0-83df-4bba-bb47-a83669091a48",
   "metadata": {},
   "outputs": [],
   "source": [
    "from sklearn.preprocessing import StandardScaler"
   ]
  },
  {
   "cell_type": "code",
   "execution_count": 17,
   "id": "d233f2d8-be9b-4f06-b0cd-9d626b063f45",
   "metadata": {},
   "outputs": [],
   "source": [
    "# ss = StandardScaler()\n",
    "# ss.fit(X_train)\n",
    "# X_train = ss.transform(X_train)\n",
    "# X_test = ss.transform(X_test)"
   ]
  },
  {
   "cell_type": "code",
   "execution_count": 18,
   "id": "e8da227c-68ff-4bf5-9984-59ba4d63f06e",
   "metadata": {},
   "outputs": [],
   "source": [
    "from sklearn.svm import SVC\n",
    "from sklearn.neighbors import KNeighborsClassifier"
   ]
  },
  {
   "cell_type": "code",
   "execution_count": 19,
   "id": "bf73ae52-24bd-4918-94a9-a9264715a678",
   "metadata": {},
   "outputs": [],
   "source": [
    "params = {\n",
    "    'degree':[1,2,3,4,5],\n",
    "    'gamma':['scale','auto'],\n",
    "    'cache_size':[100,200,300,400,500,750,1000,1250,2500,5000,7500,10000],\n",
    "    'verbose':[18],\n",
    "    \"max_iter\":[100,200,300,400,500,750,1000,1250,2500,5000,7500,10000]\n",
    "}"
   ]
  },
  {
   "cell_type": "code",
   "execution_count": 30,
   "id": "6f4c6488-0d3d-40a5-aadf-6a2da7df247d",
   "metadata": {},
   "outputs": [],
   "source": [
    "# model = SVC()\n",
    "# model.get_params().keys()\n",
    "# grid_search = GridSearchCV(estimator=model,param_grid=params,cv=5)\n",
    "# grid_search.fit(X_train,y_train)\n",
    "# grid_search.best_params_\n",
    "# grid_search.score(X_test, y_test)"
   ]
  },
  {
   "cell_type": "code",
   "execution_count": null,
   "id": "d4b2341d-03fd-45af-ad46-c52a8af51714",
   "metadata": {},
   "outputs": [],
   "source": [
    "model = SVC(cache_size=100,degree=1,gamma='scale',max_iter=2500,verbose=18)\n",
    "model.fit(X_train,y_train)"
   ]
  },
  {
   "cell_type": "code",
   "execution_count": null,
   "id": "b4fc1798-8668-46ed-b8e2-51bb0e6e3c8e",
   "metadata": {},
   "outputs": [],
   "source": [
    "{'cache_size': 100,\n",
    " 'degree': 1,\n",
    " 'gamma': 'scale',\n",
    " 'max_iter': 2500,\n",
    " 'verbose': 18}"
   ]
  },
  {
   "cell_type": "code",
   "execution_count": 21,
   "id": "70b18f86-0995-468e-9119-4d8227a43e2f",
   "metadata": {},
   "outputs": [
    {
     "data": {
      "text/plain": [
       "{'cache_size': 100,\n",
       " 'degree': 1,\n",
       " 'gamma': 'scale',\n",
       " 'max_iter': 2500,\n",
       " 'verbose': 18}"
      ]
     },
     "execution_count": 21,
     "metadata": {},
     "output_type": "execute_result"
    }
   ],
   "source": [
    "grid_search.best_params_"
   ]
  },
  {
   "cell_type": "code",
   "execution_count": 22,
   "id": "0762a122-8dec-4479-840c-59597ba9f68c",
   "metadata": {},
   "outputs": [],
   "source": [
    "# model = SVC(kernel='linear')\n",
    "# model.fit(X_train,y_train)\n",
    "# model.score(X_test, y_test)"
   ]
  },
  {
   "cell_type": "code",
   "execution_count": 23,
   "id": "81674bae-248d-4c92-8ea1-53c1ccb81b38",
   "metadata": {},
   "outputs": [],
   "source": [
    "# preds = model.predict(np.array(X_test))"
   ]
  },
  {
   "cell_type": "code",
   "execution_count": 24,
   "id": "4690612d-aa66-403e-b07a-e89d1b4b66ff",
   "metadata": {},
   "outputs": [],
   "source": [
    "# np.mean(cross_val_score(model,np.array(X_test),np.array(y_test),cv=25))"
   ]
  },
  {
   "cell_type": "code",
   "execution_count": 25,
   "id": "457d17f2-f446-4eea-96ff-6d561b7c6983",
   "metadata": {},
   "outputs": [],
   "source": [
    "# classification_report(preds,y_test)"
   ]
  },
  {
   "cell_type": "code",
   "execution_count": 26,
   "id": "2ec1bc83-f059-4320-a0b1-ed3cd9a1d76c",
   "metadata": {},
   "outputs": [],
   "source": [
    "# np.mean(cross_val_score(model,np.array(X_train),np.array(y_train),cv=25))"
   ]
  },
  {
   "cell_type": "code",
   "execution_count": 27,
   "id": "b978e239-36d1-4ec8-9ec3-f107270e2e2d",
   "metadata": {},
   "outputs": [],
   "source": [
    "ids = test_data['PassengerId']\n",
    "test_data['PassengerId'] = test_data['PassengerId'].astype(int)\n",
    "test_data['Age'] = test_data['Age'].fillna(test_data['Age'].mean())\n",
    "test_data['RoomService'] = test_data['RoomService'].fillna(test_data['RoomService'].mean())\n",
    "test_data['FoodCourt'] = test_data['FoodCourt'].fillna(test_data['FoodCourt'].mean())\n",
    "test_data['ShoppingMall'] = test_data['ShoppingMall'].fillna(test_data['ShoppingMall'].mean())\n",
    "test_data['Spa'] = test_data['Spa'].fillna(test_data['Spa'].mean())\n",
    "test_data['VRDeck'] = test_data['VRDeck'].fillna(test_data['VRDeck'].mean())\n",
    "new_transported = []\n",
    "for transport in test_data['CryoSleep']:\n",
    "    if transport is True:\n",
    "        new_transported.append(0)\n",
    "    elif transport is False:\n",
    "        new_transported.append(1)\n",
    "    else:\n",
    "        new_transported.append(None)\n",
    "test_data['CryoSleep'] = new_transported\n",
    "test_data = test_data.drop(['PassengerId','VIP','FoodCourt','ShoppingMall'],axis=1)\n",
    "idx = 0\n",
    "labels = {}\n",
    "for label in test_data['HomePlanet']:\n",
    "    if label not in list(labels.keys()):\n",
    "        idx += 1\n",
    "        labels[label] = idx\n",
    "new_data = []\n",
    "for i in test_data['HomePlanet']:\n",
    "    new_data.append(labels[i])\n",
    "test_data['HomePlanet'] = new_data\n",
    "new_cabins = []\n",
    "for c in test_data['Cabin']:\n",
    "    if type(c) is float:\n",
    "        new_cabins.append(None)\n",
    "    else:\n",
    "        c = c.split('/')[1]\n",
    "        new_cabins.append(int(c))\n",
    "test_data['Cabin'] = new_cabins\n",
    "test_data['Cabin'] = test_data['Cabin'].fillna(test_data['Cabin'].mean())\n",
    "test_data['CryoSleep'] = test_data['CryoSleep'].fillna(test_data['CryoSleep'].mean())\n",
    "test_data = test_data.drop(['Destination','Name'],axis=1)"
   ]
  },
  {
   "cell_type": "code",
   "execution_count": 28,
   "id": "95a33e0a-d0e3-4d97-878f-b7c5d47d8e14",
   "metadata": {},
   "outputs": [
    {
     "data": {
      "text/html": [
       "<div>\n",
       "<style scoped>\n",
       "    .dataframe tbody tr th:only-of-type {\n",
       "        vertical-align: middle;\n",
       "    }\n",
       "\n",
       "    .dataframe tbody tr th {\n",
       "        vertical-align: top;\n",
       "    }\n",
       "\n",
       "    .dataframe thead th {\n",
       "        text-align: right;\n",
       "    }\n",
       "</style>\n",
       "<table border=\"1\" class=\"dataframe\">\n",
       "  <thead>\n",
       "    <tr style=\"text-align: right;\">\n",
       "      <th></th>\n",
       "      <th>HomePlanet</th>\n",
       "      <th>CryoSleep</th>\n",
       "      <th>Cabin</th>\n",
       "      <th>Age</th>\n",
       "      <th>RoomService</th>\n",
       "      <th>Spa</th>\n",
       "      <th>VRDeck</th>\n",
       "    </tr>\n",
       "  </thead>\n",
       "  <tbody>\n",
       "    <tr>\n",
       "      <th>0</th>\n",
       "      <td>1</td>\n",
       "      <td>0.0</td>\n",
       "      <td>3.000000</td>\n",
       "      <td>27.000000</td>\n",
       "      <td>0.0</td>\n",
       "      <td>0.0</td>\n",
       "      <td>0.0</td>\n",
       "    </tr>\n",
       "    <tr>\n",
       "      <th>1</th>\n",
       "      <td>1</td>\n",
       "      <td>1.0</td>\n",
       "      <td>4.000000</td>\n",
       "      <td>19.000000</td>\n",
       "      <td>0.0</td>\n",
       "      <td>2823.0</td>\n",
       "      <td>0.0</td>\n",
       "    </tr>\n",
       "    <tr>\n",
       "      <th>2</th>\n",
       "      <td>2</td>\n",
       "      <td>0.0</td>\n",
       "      <td>0.000000</td>\n",
       "      <td>31.000000</td>\n",
       "      <td>0.0</td>\n",
       "      <td>0.0</td>\n",
       "      <td>0.0</td>\n",
       "    </tr>\n",
       "    <tr>\n",
       "      <th>3</th>\n",
       "      <td>2</td>\n",
       "      <td>1.0</td>\n",
       "      <td>1.000000</td>\n",
       "      <td>38.000000</td>\n",
       "      <td>0.0</td>\n",
       "      <td>181.0</td>\n",
       "      <td>585.0</td>\n",
       "    </tr>\n",
       "    <tr>\n",
       "      <th>4</th>\n",
       "      <td>1</td>\n",
       "      <td>1.0</td>\n",
       "      <td>5.000000</td>\n",
       "      <td>20.000000</td>\n",
       "      <td>10.0</td>\n",
       "      <td>0.0</td>\n",
       "      <td>0.0</td>\n",
       "    </tr>\n",
       "    <tr>\n",
       "      <th>...</th>\n",
       "      <td>...</td>\n",
       "      <td>...</td>\n",
       "      <td>...</td>\n",
       "      <td>...</td>\n",
       "      <td>...</td>\n",
       "      <td>...</td>\n",
       "      <td>...</td>\n",
       "    </tr>\n",
       "    <tr>\n",
       "      <th>4272</th>\n",
       "      <td>1</td>\n",
       "      <td>0.0</td>\n",
       "      <td>1496.000000</td>\n",
       "      <td>34.000000</td>\n",
       "      <td>0.0</td>\n",
       "      <td>0.0</td>\n",
       "      <td>0.0</td>\n",
       "    </tr>\n",
       "    <tr>\n",
       "      <th>4273</th>\n",
       "      <td>1</td>\n",
       "      <td>1.0</td>\n",
       "      <td>610.178836</td>\n",
       "      <td>42.000000</td>\n",
       "      <td>0.0</td>\n",
       "      <td>10.0</td>\n",
       "      <td>144.0</td>\n",
       "    </tr>\n",
       "    <tr>\n",
       "      <th>4274</th>\n",
       "      <td>3</td>\n",
       "      <td>0.0</td>\n",
       "      <td>296.000000</td>\n",
       "      <td>28.658146</td>\n",
       "      <td>0.0</td>\n",
       "      <td>0.0</td>\n",
       "      <td>0.0</td>\n",
       "    </tr>\n",
       "    <tr>\n",
       "      <th>4275</th>\n",
       "      <td>2</td>\n",
       "      <td>1.0</td>\n",
       "      <td>297.000000</td>\n",
       "      <td>28.658146</td>\n",
       "      <td>0.0</td>\n",
       "      <td>0.0</td>\n",
       "      <td>523.0</td>\n",
       "    </tr>\n",
       "    <tr>\n",
       "      <th>4276</th>\n",
       "      <td>1</td>\n",
       "      <td>0.0</td>\n",
       "      <td>1498.000000</td>\n",
       "      <td>43.000000</td>\n",
       "      <td>0.0</td>\n",
       "      <td>0.0</td>\n",
       "      <td>0.0</td>\n",
       "    </tr>\n",
       "  </tbody>\n",
       "</table>\n",
       "<p>4277 rows × 7 columns</p>\n",
       "</div>"
      ],
      "text/plain": [
       "      HomePlanet  CryoSleep        Cabin        Age  RoomService     Spa  \\\n",
       "0              1        0.0     3.000000  27.000000          0.0     0.0   \n",
       "1              1        1.0     4.000000  19.000000          0.0  2823.0   \n",
       "2              2        0.0     0.000000  31.000000          0.0     0.0   \n",
       "3              2        1.0     1.000000  38.000000          0.0   181.0   \n",
       "4              1        1.0     5.000000  20.000000         10.0     0.0   \n",
       "...          ...        ...          ...        ...          ...     ...   \n",
       "4272           1        0.0  1496.000000  34.000000          0.0     0.0   \n",
       "4273           1        1.0   610.178836  42.000000          0.0    10.0   \n",
       "4274           3        0.0   296.000000  28.658146          0.0     0.0   \n",
       "4275           2        1.0   297.000000  28.658146          0.0     0.0   \n",
       "4276           1        0.0  1498.000000  43.000000          0.0     0.0   \n",
       "\n",
       "      VRDeck  \n",
       "0        0.0  \n",
       "1        0.0  \n",
       "2        0.0  \n",
       "3      585.0  \n",
       "4        0.0  \n",
       "...      ...  \n",
       "4272     0.0  \n",
       "4273   144.0  \n",
       "4274     0.0  \n",
       "4275   523.0  \n",
       "4276     0.0  \n",
       "\n",
       "[4277 rows x 7 columns]"
      ]
     },
     "execution_count": 28,
     "metadata": {},
     "output_type": "execute_result"
    }
   ],
   "source": [
    "test_data"
   ]
  },
  {
   "cell_type": "code",
   "execution_count": 29,
   "id": "42a95d8a-2e3b-4e3b-877f-d13ddf44128f",
   "metadata": {},
   "outputs": [
    {
     "ename": "NotFittedError",
     "evalue": "This SVC instance is not fitted yet. Call 'fit' with appropriate arguments before using this estimator.",
     "output_type": "error",
     "traceback": [
      "\u001b[0;31m---------------------------------------------------------------------------\u001b[0m",
      "\u001b[0;31mNotFittedError\u001b[0m                            Traceback (most recent call last)",
      "\u001b[0;32m/tmp/ipykernel_66579/4250833451.py\u001b[0m in \u001b[0;36m<module>\u001b[0;34m\u001b[0m\n\u001b[0;32m----> 1\u001b[0;31m \u001b[0mpreds\u001b[0m \u001b[0;34m=\u001b[0m \u001b[0mmodel\u001b[0m\u001b[0;34m.\u001b[0m\u001b[0mpredict\u001b[0m\u001b[0;34m(\u001b[0m\u001b[0mnp\u001b[0m\u001b[0;34m.\u001b[0m\u001b[0marray\u001b[0m\u001b[0;34m(\u001b[0m\u001b[0mtest_data\u001b[0m\u001b[0;34m)\u001b[0m\u001b[0;34m)\u001b[0m\u001b[0;34m\u001b[0m\u001b[0;34m\u001b[0m\u001b[0m\n\u001b[0m",
      "\u001b[0;32m/usr/local/lib/python3.8/dist-packages/sklearn/svm/_base.py\u001b[0m in \u001b[0;36mpredict\u001b[0;34m(self, X)\u001b[0m\n\u001b[1;32m    776\u001b[0m             \u001b[0mClass\u001b[0m \u001b[0mlabels\u001b[0m \u001b[0;32mfor\u001b[0m \u001b[0msamples\u001b[0m \u001b[0;32min\u001b[0m \u001b[0mX\u001b[0m\u001b[0;34m.\u001b[0m\u001b[0;34m\u001b[0m\u001b[0;34m\u001b[0m\u001b[0m\n\u001b[1;32m    777\u001b[0m         \"\"\"\n\u001b[0;32m--> 778\u001b[0;31m         \u001b[0mcheck_is_fitted\u001b[0m\u001b[0;34m(\u001b[0m\u001b[0mself\u001b[0m\u001b[0;34m)\u001b[0m\u001b[0;34m\u001b[0m\u001b[0;34m\u001b[0m\u001b[0m\n\u001b[0m\u001b[1;32m    779\u001b[0m         \u001b[0;32mif\u001b[0m \u001b[0mself\u001b[0m\u001b[0;34m.\u001b[0m\u001b[0mbreak_ties\u001b[0m \u001b[0;32mand\u001b[0m \u001b[0mself\u001b[0m\u001b[0;34m.\u001b[0m\u001b[0mdecision_function_shape\u001b[0m \u001b[0;34m==\u001b[0m \u001b[0;34m\"ovo\"\u001b[0m\u001b[0;34m:\u001b[0m\u001b[0;34m\u001b[0m\u001b[0;34m\u001b[0m\u001b[0m\n\u001b[1;32m    780\u001b[0m             raise ValueError(\n",
      "\u001b[0;32m/usr/local/lib/python3.8/dist-packages/sklearn/utils/validation.py\u001b[0m in \u001b[0;36mcheck_is_fitted\u001b[0;34m(estimator, attributes, msg, all_or_any)\u001b[0m\n\u001b[1;32m   1207\u001b[0m \u001b[0;34m\u001b[0m\u001b[0m\n\u001b[1;32m   1208\u001b[0m     \u001b[0;32mif\u001b[0m \u001b[0;32mnot\u001b[0m \u001b[0mfitted\u001b[0m\u001b[0;34m:\u001b[0m\u001b[0;34m\u001b[0m\u001b[0;34m\u001b[0m\u001b[0m\n\u001b[0;32m-> 1209\u001b[0;31m         \u001b[0;32mraise\u001b[0m \u001b[0mNotFittedError\u001b[0m\u001b[0;34m(\u001b[0m\u001b[0mmsg\u001b[0m \u001b[0;34m%\u001b[0m \u001b[0;34m{\u001b[0m\u001b[0;34m\"name\"\u001b[0m\u001b[0;34m:\u001b[0m \u001b[0mtype\u001b[0m\u001b[0;34m(\u001b[0m\u001b[0mestimator\u001b[0m\u001b[0;34m)\u001b[0m\u001b[0;34m.\u001b[0m\u001b[0m__name__\u001b[0m\u001b[0;34m}\u001b[0m\u001b[0;34m)\u001b[0m\u001b[0;34m\u001b[0m\u001b[0;34m\u001b[0m\u001b[0m\n\u001b[0m\u001b[1;32m   1210\u001b[0m \u001b[0;34m\u001b[0m\u001b[0m\n\u001b[1;32m   1211\u001b[0m \u001b[0;34m\u001b[0m\u001b[0m\n",
      "\u001b[0;31mNotFittedError\u001b[0m: This SVC instance is not fitted yet. Call 'fit' with appropriate arguments before using this estimator."
     ]
    }
   ],
   "source": [
    "preds = model.predict(np.array(test_data))"
   ]
  },
  {
   "cell_type": "code",
   "execution_count": null,
   "id": "dd4215c5-209d-4fbd-a4d4-b4ef5f2116fd",
   "metadata": {},
   "outputs": [],
   "source": [
    "preds"
   ]
  },
  {
   "cell_type": "code",
   "execution_count": null,
   "id": "8c515043-38d8-435f-9c3c-beea42a94ca6",
   "metadata": {},
   "outputs": [],
   "source": [
    "predictions = {\n",
    "    \"PassengerId\":[],\n",
    "    \"Transported\":[]\n",
    "}"
   ]
  },
  {
   "cell_type": "code",
   "execution_count": null,
   "id": "3577d1f8-c3e6-4154-893b-e01e6e565fe8",
   "metadata": {},
   "outputs": [],
   "source": [
    "labels = {0:True,1:False}"
   ]
  },
  {
   "cell_type": "code",
   "execution_count": null,
   "id": "b26d7be1-d8f0-4a38-a869-32ef0d3be154",
   "metadata": {},
   "outputs": [],
   "source": [
    "for id,pred in zip(ids,preds):\n",
    "    predictions['PassengerId'].append(id)\n",
    "    predictions['Transported'].append(labels[pred])"
   ]
  },
  {
   "cell_type": "code",
   "execution_count": null,
   "id": "d5f1e587-0279-4a50-a32f-c84cd010431f",
   "metadata": {},
   "outputs": [],
   "source": [
    "predictions = pd.DataFrame(predictions)"
   ]
  },
  {
   "cell_type": "code",
   "execution_count": null,
   "id": "f0a87d56-5083-4015-b67c-57933603628e",
   "metadata": {},
   "outputs": [],
   "source": [
    "predictions.to_csv('./save/svc-best.csv',index=False)"
   ]
  },
  {
   "cell_type": "code",
   "execution_count": null,
   "id": "27a72883-c1ab-4913-9069-165ba0f8c257",
   "metadata": {},
   "outputs": [],
   "source": []
  },
  {
   "cell_type": "code",
   "execution_count": null,
   "id": "979ca857-765f-428f-98ff-22d3e5b335b1",
   "metadata": {},
   "outputs": [],
   "source": []
  }
 ],
 "metadata": {
  "kernelspec": {
   "display_name": "Python 3 (ipykernel)",
   "language": "python",
   "name": "python3"
  },
  "language_info": {
   "codemirror_mode": {
    "name": "ipython",
    "version": 3
   },
   "file_extension": ".py",
   "mimetype": "text/x-python",
   "name": "python",
   "nbconvert_exporter": "python",
   "pygments_lexer": "ipython3",
   "version": "3.8.10"
  }
 },
 "nbformat": 4,
 "nbformat_minor": 5
}
