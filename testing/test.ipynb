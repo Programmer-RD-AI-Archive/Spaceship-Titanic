{
 "cells": [
  {
   "cell_type": "code",
   "execution_count": 1,
   "id": "083c31e6-01ab-4cea-a453-a0da9224c3ea",
   "metadata": {},
   "outputs": [
    {
     "name": "stderr",
     "output_type": "stream",
     "text": [
      "/usr/local/lib/python3.8/dist-packages/pkg_resources/__init__.py:116: PkgResourcesDeprecationWarning: 0.5.2.1-4-gc0b48a7 is an invalid version and will not be supported in a future release\n",
      "  warnings.warn(\n",
      "/usr/local/lib/python3.8/dist-packages/pkg_resources/__init__.py:116: PkgResourcesDeprecationWarning: 1.13.1-unknown is an invalid version and will not be supported in a future release\n",
      "  warnings.warn(\n",
      "/usr/local/lib/python3.8/dist-packages/pkg_resources/__init__.py:116: PkgResourcesDeprecationWarning: 0.23ubuntu1 is an invalid version and will not be supported in a future release\n",
      "  warnings.warn(\n",
      "/usr/local/lib/python3.8/dist-packages/pkg_resources/__init__.py:116: PkgResourcesDeprecationWarning: 0.1.36ubuntu1 is an invalid version and will not be supported in a future release\n",
      "  warnings.warn(\n"
     ]
    }
   ],
   "source": [
    "import numpy as np\n",
    "import pandas as pd \n",
    "import sklearn\n",
    "from sklearn.metrics  import f1_score,accuracy_score\n",
    "from sklearn.tree import DecisionTreeClassifier\n",
    "from sklearn.model_selection import train_test_split\n",
    "from sklearn.metrics import mean_absolute_error\n",
    "from sklearn.metrics import r2_score\n",
    "# Classification\n",
    "from sklearn.linear_model import LogisticRegression\n",
    "from sklearn.svm import SVC\n",
    "from sklearn.naive_bayes import GaussianNB\n",
    "from sklearn.naive_bayes import MultinomialNB\n",
    "from sklearn.linear_model import SGDClassifier\n",
    "from sklearn.neighbors import KNeighborsClassifier\n",
    "from sklearn.tree import DecisionTreeClassifier\n",
    "from sklearn.ensemble import RandomForestClassifier\n",
    "from sklearn.ensemble import GradientBoostingClassifier\n",
    "from lightgbm import LGBMClassifier\n",
    "from xgboost.sklearn import XGBClassifier\n",
    "#\n",
    "from sklearn.metrics import classification_report\n",
    "from sklearn.model_selection import cross_val_score\n",
    "from sklearn.compose import make_column_transformer\n",
    "from sklearn.preprocessing import StandardScaler, MinMaxScaler, OrdinalEncoder\n",
    "from sklearn.metrics import *\n",
    "from sklearn.model_selection import *\n",
    "# from catboost import CatBoost,CatBoostRegressor\n",
    "from xgboost import XGBRegressor,XGBRFRegressor\n",
    "import warnings\n",
    "warnings.filterwarnings('ignore')\n",
    "np.random.seed(55)\n",
    "sklearn.random.seed(55)"
   ]
  },
  {
   "cell_type": "code",
   "execution_count": 2,
   "id": "2b6e66e7-a826-47de-89be-50dc4ae6c340",
   "metadata": {},
   "outputs": [],
   "source": [
    "data = pd.read_csv('./data/train.csv')"
   ]
  },
  {
   "cell_type": "code",
   "execution_count": 3,
   "id": "92c758da-8e62-45df-918f-d63340efa284",
   "metadata": {},
   "outputs": [],
   "source": [
    "data = data.sample(frac=1)"
   ]
  },
  {
   "cell_type": "code",
   "execution_count": 4,
   "id": "14c172e0-a0db-4764-98ac-8e44a06d4910",
   "metadata": {},
   "outputs": [],
   "source": [
    "test_data = pd.read_csv('./data/test.csv')"
   ]
  },
  {
   "cell_type": "code",
   "execution_count": 5,
   "id": "7073f139-a356-45ba-9f2c-6d4b033ecf33",
   "metadata": {},
   "outputs": [],
   "source": [
    "from tqdm import tqdm"
   ]
  },
  {
   "cell_type": "code",
   "execution_count": 6,
   "id": "047171b1-58e6-4e14-b030-55fc78f1b771",
   "metadata": {},
   "outputs": [
    {
     "name": "stderr",
     "output_type": "stream",
     "text": [
      "100%|████████████████████████████| 8693/8693 [00:00<00:00, 15605.31it/s]\n"
     ]
    }
   ],
   "source": [
    "data['HomePlanet'] = data['HomePlanet'].replace({\"Earth\":1,\"Europa\":2,\"Mars\":3})\n",
    "home_plant_labels = {\"Earth\":1,\"Europa\":2,\"Mars\":3}\n",
    "data['CryoSleep'] = data['CryoSleep'].replace({True:1,False:2})\n",
    "cryo_sleep_labels = {\"Earth\":1,\"Europa\":2,\"Mars\":3}\n",
    "cabins_1 = []\n",
    "cabins_2 = []\n",
    "cabins_3 = []\n",
    "for i in tqdm(range(len(data['Cabin']))):\n",
    "    cabin = str(data.iloc[i]['Cabin']).split(\"/\")\n",
    "    if cabin[0] != \"nan\":\n",
    "        cabins_1.append(cabin[0])\n",
    "        cabins_2.append(int(cabin[1]))\n",
    "        cabins_3.append(cabin[2])\n",
    "    else:\n",
    "        cabins_1.append(None)\n",
    "        cabins_2.append(None)\n",
    "        cabins_3.append(None)\n",
    "data['Cabins_1'] = cabins_1\n",
    "data['Cabins_2'] = cabins_2\n",
    "data['Cabins_3'] = cabins_3"
   ]
  },
  {
   "cell_type": "code",
   "execution_count": 7,
   "id": "980a0d62-f19e-4aad-adfd-991e0b101acb",
   "metadata": {},
   "outputs": [],
   "source": [
    "data['Transported'] =data['Transported'].astype('category').cat.codes\n",
    "data['VIP'] =data['VIP'].astype('category').cat.codes\n",
    "data['Cabins_1'] =data['Cabins_1'].astype('category').cat.codes\n",
    "data['Cabins_3'] =data['Cabins_3'].astype('category').cat.codes\n",
    "data.drop('Cabin',axis=1,inplace=True)\n",
    "data.drop('Destination',axis=1,inplace=True)\n",
    "data.drop('Name',axis=1,inplace=True)"
   ]
  },
  {
   "cell_type": "code",
   "execution_count": 8,
   "id": "b4e64938-8152-4350-b576-bb15bd84f48f",
   "metadata": {},
   "outputs": [],
   "source": [
    "data['PassengerId'] = data['PassengerId'].astype(int)"
   ]
  },
  {
   "cell_type": "code",
   "execution_count": 9,
   "id": "9306adf3-f0cf-4752-b041-39633e216382",
   "metadata": {},
   "outputs": [],
   "source": [
    "data['HomePlanet'] = data['HomePlanet'].fillna(data['HomePlanet'].mean())\n",
    "data['CryoSleep'] = data['CryoSleep'].fillna(data['CryoSleep'].mean())\n",
    "data['Age'] = data['Age'].fillna(data['Age'].mean())\n",
    "data['RoomService'] = data['RoomService'].fillna(data['RoomService'].mean())\n",
    "data['FoodCourt'] = data['FoodCourt'].fillna(data['FoodCourt'].mean())\n",
    "data['ShoppingMall'] = data['ShoppingMall'].fillna(data['ShoppingMall'].mean())\n",
    "data['Spa'] = data['Spa'].fillna(data['Spa'].mean())\n",
    "data['VRDeck'] = data['VRDeck'].fillna(data['VRDeck'].mean())\n",
    "data['Cabins_2'] = data['Cabins_2'].fillna(data['Cabins_2'].mean())"
   ]
  },
  {
   "cell_type": "code",
   "execution_count": 10,
   "id": "ed55d196-09c8-4438-9b80-05e02a0a3933",
   "metadata": {},
   "outputs": [],
   "source": [
    "X = data.drop('Transported',axis=1)\n",
    "y = data['Transported']"
   ]
  },
  {
   "cell_type": "code",
   "execution_count": 11,
   "id": "ebd92385-3c27-4c53-824b-2cb54c94fd60",
   "metadata": {},
   "outputs": [],
   "source": [
    "X_train,X_test,y_train,y_test = train_test_split(X,y,test_size=0.125,shuffle=True)"
   ]
  },
  {
   "cell_type": "code",
   "execution_count": 12,
   "id": "c97f159a-54ce-4834-a197-25e0f693963b",
   "metadata": {},
   "outputs": [],
   "source": [
    "num_columns = list(X.columns)\n",
    "ct = make_column_transformer(\n",
    "    (MinMaxScaler(), num_columns),\n",
    "    (StandardScaler(), num_columns),\n",
    "    remainder='passthrough'\n",
    ")\n",
    "\n",
    "X_train = ct.fit_transform(X_train)\n",
    "X_test = ct.transform(X_test)"
   ]
  },
  {
   "cell_type": "code",
   "execution_count": 13,
   "id": "5dcaa444-76f5-46b6-9a23-2dc48c6b0cdb",
   "metadata": {},
   "outputs": [],
   "source": [
    "from sklearn.linear_model import LogisticRegression\n",
    "from sklearn.svm import SVC\n",
    "from sklearn.naive_bayes import GaussianNB\n",
    "from sklearn.naive_bayes import MultinomialNB\n",
    "from sklearn.linear_model import SGDClassifier\n",
    "from sklearn.neighbors import KNeighborsClassifier\n",
    "from sklearn.tree import DecisionTreeClassifier\n",
    "from sklearn.ensemble import RandomForestClassifier\n",
    "from sklearn.ensemble import GradientBoostingClassifier\n",
    "from lightgbm import LGBMClassifier\n",
    "from xgboost.sklearn import XGBClassifier"
   ]
  },
  {
   "cell_type": "code",
   "execution_count": 14,
   "id": "d8de2217-b58f-46ad-b862-b73f43eb6cbc",
   "metadata": {},
   "outputs": [],
   "source": [
    "params = {\n",
    "    'C':[1.0,2.0,3.0,4.0,5],\n",
    "    \"kernel\":[\"linear\",\"poly\",\"rbf\",\"sigmoid\"],\n",
    "    \"degree\":[1,2,3,4,5],\n",
    "    \"gamma\":[\"scale\",\"auto\"],\n",
    "    \"shrinking\":[True,False],\n",
    "    \"cache_size\":[12,25,50,100,250,325,500,625,750,1000],\n",
    "    \"max_iter\":[1,2,3,3,4,5],\n",
    "}"
   ]
  },
  {
   "cell_type": "code",
   "execution_count": 15,
   "id": "0b98fded-43e7-4757-b2c6-254619d8833c",
   "metadata": {},
   "outputs": [
    {
     "data": {
      "text/plain": [
       "GridSearchCV(cv=3, estimator=SVC(),\n",
       "             param_grid={'C': [1.0, 2.0, 3.0, 4.0, 5],\n",
       "                         'cache_size': [12, 25, 50, 100, 250, 325, 500, 625,\n",
       "                                        750, 1000],\n",
       "                         'degree': [1, 2, 3, 4, 5], 'gamma': ['scale', 'auto'],\n",
       "                         'kernel': ['linear', 'poly', 'rbf', 'sigmoid'],\n",
       "                         'max_iter': [1, 2, 3, 3, 4, 5],\n",
       "                         'shrinking': [True, False]})"
      ]
     },
     "execution_count": 15,
     "metadata": {},
     "output_type": "execute_result"
    }
   ],
   "source": [
    "model = SVC()\n",
    "gs = GridSearchCV(model,params,cv=3)\n",
    "gs.fit(X_train,y_train)"
   ]
  },
  {
   "cell_type": "code",
   "execution_count": 16,
   "id": "2007a50a-cff4-4e39-b9f2-a2780807b3b8",
   "metadata": {},
   "outputs": [],
   "source": [
    "# {'C': 1.0,\n",
    "#  'cache_size': 12,\n",
    "#  'degree': 1,\n",
    "#  'gamma': 'auto',\n",
    "#  'kernel': 'sigmoid',\n",
    "#  'max_iter': 5,\n",
    "#  'shrinking': True}"
   ]
  },
  {
   "cell_type": "code",
   "execution_count": 20,
   "id": "ab8d8d0a-0167-4b9d-8bef-72f80619f40f",
   "metadata": {},
   "outputs": [
    {
     "data": {
      "text/plain": [
       "SVC(cache_size=12, degree=1, gamma='auto', kernel='sigmoid', max_iter=5)"
      ]
     },
     "execution_count": 20,
     "metadata": {},
     "output_type": "execute_result"
    }
   ],
   "source": [
    "model = SVC(\n",
    "    C=1.0,\n",
    "    cache_size=12,\n",
    "    degree=1,\n",
    "    gamma='auto',\n",
    "    kernel='sigmoid',\n",
    "    max_iter=5,\n",
    "    shrinking=True\n",
    ")\n",
    "model.fit(X_train,y_train)"
   ]
  },
  {
   "cell_type": "code",
   "execution_count": 21,
   "id": "88cff97e-1742-4c12-ac3a-8e47efacf4ce",
   "metadata": {},
   "outputs": [
    {
     "data": {
      "text/plain": [
       "{'C': 1.0,\n",
       " 'cache_size': 12,\n",
       " 'degree': 1,\n",
       " 'gamma': 'auto',\n",
       " 'kernel': 'sigmoid',\n",
       " 'max_iter': 5,\n",
       " 'shrinking': True}"
      ]
     },
     "execution_count": 21,
     "metadata": {},
     "output_type": "execute_result"
    }
   ],
   "source": [
    "gs.best_params_"
   ]
  },
  {
   "cell_type": "code",
   "execution_count": 22,
   "id": "3bc39e42-3e6c-4417-909b-38d4ef98a32a",
   "metadata": {},
   "outputs": [
    {
     "data": {
      "text/plain": [
       "0.7019319227230911"
      ]
     },
     "execution_count": 22,
     "metadata": {},
     "output_type": "execute_result"
    }
   ],
   "source": [
    "model.score(X_test,y_test)"
   ]
  },
  {
   "cell_type": "code",
   "execution_count": 23,
   "id": "e7511947-6c82-4279-8124-243a60ef4614",
   "metadata": {},
   "outputs": [],
   "source": [
    "preds = model.predict(X_test)"
   ]
  },
  {
   "cell_type": "code",
   "execution_count": 24,
   "id": "61c09a14-8589-4503-a98e-a425f3b1ec46",
   "metadata": {},
   "outputs": [
    {
     "data": {
      "text/plain": [
       "(0.7019319227230911, 0.8788426763110307, 0.75)"
      ]
     },
     "execution_count": 24,
     "metadata": {},
     "output_type": "execute_result"
    }
   ],
   "source": [
    "accuracy_score(preds,y_test),precision_score(preds,y_test),f1_score(preds,y_test)"
   ]
  },
  {
   "cell_type": "code",
   "execution_count": 25,
   "id": "8e4bc898-37cb-48cd-ad90-6f4312e4fd4f",
   "metadata": {},
   "outputs": [
    {
     "data": {
      "text/plain": [
       "0.525273749630068"
      ]
     },
     "execution_count": 25,
     "metadata": {},
     "output_type": "execute_result"
    }
   ],
   "source": [
    "np.mean(cross_val_score(model,X_test,y_test))"
   ]
  },
  {
   "cell_type": "code",
   "execution_count": 26,
   "id": "40645b32-9ae1-46e5-949c-21623c88c18b",
   "metadata": {},
   "outputs": [
    {
     "name": "stderr",
     "output_type": "stream",
     "text": [
      "100%|████████████████████████████| 4277/4277 [00:00<00:00, 14501.31it/s]\n"
     ]
    }
   ],
   "source": [
    "test_data = pd.read_csv('./data/test.csv')\n",
    "ids = test_data[\"PassengerId\"]\n",
    "test_data['HomePlanet'] = test_data['HomePlanet'].replace({\"Earth\":1,\"Europa\":2,\"Mars\":3})\n",
    "home_plant_labels = {\"Earth\":1,\"Europa\":2,\"Mars\":3}\n",
    "test_data['CryoSleep'] = test_data['CryoSleep'].replace({True:1,False:2})\n",
    "cryo_sleep_labels = {\"Earth\":1,\"Europa\":2,\"Mars\":3}\n",
    "cabins_1 = []\n",
    "cabins_2 = []\n",
    "cabins_3 = []\n",
    "for i in tqdm(range(len(test_data['Cabin']))):\n",
    "    cabin = str(test_data.iloc[i]['Cabin']).split(\"/\")\n",
    "    if cabin[0] != \"nan\":\n",
    "        cabins_1.append(cabin[0])\n",
    "        cabins_2.append(int(cabin[1]))\n",
    "        cabins_3.append(cabin[2])\n",
    "    else:\n",
    "        cabins_1.append(None)\n",
    "        cabins_2.append(None)\n",
    "        cabins_3.append(None)\n",
    "test_data['Cabins_1'] = cabins_1\n",
    "test_data['Cabins_2'] = cabins_2\n",
    "test_data['Cabins_3'] = cabins_3\n",
    "test_data['VIP'] =test_data['VIP'].astype('category').cat.codes\n",
    "test_data['Cabins_1'] =test_data['Cabins_1'].astype('category').cat.codes\n",
    "test_data['Cabins_3'] =test_data['Cabins_3'].astype('category').cat.codes\n",
    "test_data.drop('Cabin',axis=1,inplace=True)\n",
    "test_data.drop('Destination',axis=1,inplace=True)\n",
    "test_data.drop('Name',axis=1,inplace=True)\n",
    "test_data['PassengerId'] = test_data['PassengerId'].astype(int)\n",
    "test_data['HomePlanet'] = test_data['HomePlanet'].fillna(test_data['HomePlanet'].mean())\n",
    "test_data['CryoSleep'] = test_data['CryoSleep'].fillna(test_data['CryoSleep'].mean())\n",
    "test_data['Age'] = test_data['Age'].fillna(test_data['Age'].mean())\n",
    "test_data['RoomService'] = test_data['RoomService'].fillna(test_data['RoomService'].mean())\n",
    "test_data['FoodCourt'] = test_data['FoodCourt'].fillna(test_data['FoodCourt'].mean())\n",
    "test_data['ShoppingMall'] = test_data['ShoppingMall'].fillna(test_data['ShoppingMall'].mean())\n",
    "test_data['Spa'] = test_data['Spa'].fillna(test_data['Spa'].mean())\n",
    "test_data['VRDeck'] = test_data['VRDeck'].fillna(test_data['VRDeck'].mean())\n",
    "test_data['Cabins_2'] = test_data['Cabins_2'].fillna(test_data['Cabins_2'].mean())\n",
    "test_data = ct.transform(test_data)\n",
    "preds = model.predict(np.array(test_data))\n",
    "predictions = {\n",
    "    \"PassengerId\":[],\n",
    "    \"Transported\":[]\n",
    "}\n",
    "labels = {1:True,0:False}\n",
    "for id,pred in zip(ids,preds):\n",
    "    predictions['PassengerId'].append(id)\n",
    "    predictions['Transported'].append(labels[pred])\n",
    "predictions = pd.DataFrame(predictions)\n",
    "predictions.to_csv(f'./save/final.csv',index=False)"
   ]
  },
  {
   "cell_type": "code",
   "execution_count": null,
   "id": "c7ed4947-b40a-4273-bd07-c77cc812ea44",
   "metadata": {},
   "outputs": [],
   "source": [
    "\n",
    "# SVC() = 0.80593"
   ]
  }
 ],
 "metadata": {
  "kernelspec": {
   "display_name": "Python 3 (ipykernel)",
   "language": "python",
   "name": "python3"
  },
  "language_info": {
   "codemirror_mode": {
    "name": "ipython",
    "version": 3
   },
   "file_extension": ".py",
   "mimetype": "text/x-python",
   "name": "python",
   "nbconvert_exporter": "python",
   "pygments_lexer": "ipython3",
   "version": "3.8.10"
  }
 },
 "nbformat": 4,
 "nbformat_minor": 5
}
